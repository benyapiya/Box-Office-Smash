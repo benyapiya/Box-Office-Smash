{
 "cells": [
  {
   "cell_type": "code",
   "execution_count": 1,
   "metadata": {},
   "outputs": [],
   "source": [
    "# Install PostGreSQL and psycopg2\n",
    "# export DYLD_FALLBACK_LIBRARY_PATH=your_python_lib_path/lib/:$DYLD_FALLBACK_LIBRARY_PATH\n",
    "\n",
    "import os\n",
    "import psycopg2"
   ]
  },
  {
   "cell_type": "code",
   "execution_count": 2,
   "metadata": {},
   "outputs": [],
   "source": [
    "def connect(db, user, password, host=\"localhost\", port=5432):\n",
    "    \"\"\"\n",
    "    Connects to the database and ensures there are tables.\n",
    "    \"\"\"\n",
    "    conn = psycopg2.connect(**{\n",
    "        \"database\": db,\n",
    "        \"user\": user,\n",
    "        \"password\": password,\n",
    "        \"host\": host,\n",
    "        \"port\": port\n",
    "\n",
    "    })\n",
    "    return conn\n"
   ]
  },
  {
   "cell_type": "code",
   "execution_count": 3,
   "metadata": {},
   "outputs": [],
   "source": [
    "def insert(name, email, conn=None):\n",
    "    if not conn: conn = connect()\n",
    "    \n",
    "    cursor = conn.cursor()\n",
    "    sql = \"INSERT INTO contacts (name, email) VALUES  (%s, %s)\"\n",
    "    cursor.execute(sql, (name, email))\n",
    "    conn.commit()"
   ]
  },
  {
   "cell_type": "code",
   "execution_count": 6,
   "metadata": {},
   "outputs": [
    {
     "name": "stdout",
     "output_type": "stream",
     "text": [
      "Query start:\n",
      "Query end:\n",
      "There are now 35666372 title_principals\n"
     ]
    }
   ],
   "source": [
    "if __name__ == \"__main__\":\n",
    "\n",
    "    conn  = connect('db_name', 'db_user', 'db_pass', 'db_host')\n",
    "\n",
    "    cursor = conn.cursor()\n",
    "    print(\"Query start: please wait\")\n",
    "    cursor.execute(\"SELECT count(id) FROM title_principals\")\n",
    "    title_principals = cursor.fetchone()[0]\n",
    "    print(\"Query end:\")\n",
    "    print(\"There are now %i title_principals\" % title_principals)\n",
    "\n",
    "    conn.close()"
   ]
  },
  {
   "cell_type": "code",
   "execution_count": null,
   "metadata": {},
   "outputs": [],
   "source": []
  }
 ],
 "metadata": {
  "kernelspec": {
   "display_name": "Python 3",
   "language": "python",
   "name": "python3"
  },
  "language_info": {
   "codemirror_mode": {
    "name": "ipython",
    "version": 3
   },
   "file_extension": ".py",
   "mimetype": "text/x-python",
   "name": "python",
   "nbconvert_exporter": "python",
   "pygments_lexer": "ipython3",
   "version": "3.7.4"
  }
 },
 "nbformat": 4,
 "nbformat_minor": 2
}
