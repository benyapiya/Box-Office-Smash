{
 "cells": [
  {
   "cell_type": "code",
   "execution_count": 1,
   "metadata": {},
   "outputs": [],
   "source": [
    "import psycopg2\n",
    "import pandas as pd\n",
    "import numpy as np\n",
    "import matplotlib.pyplot as plt\n",
    "import seaborn as sns\n",
    "from  sklearn.model_selection import train_test_split\n",
    "from sklearn.impute import SimpleImputer\n",
    "from sklearn.preprocessing import MinMaxScaler\n",
    "from sklearn.ensemble import RandomForestRegressor\n",
    "from sklearn.ensemble import GradientBoostingRegressor\n",
    "from sklearn.linear_model import ElasticNetCV\n",
    "from sklearn.linear_model import LassoLars\n",
    "from sklearn.model_selection import RandomizedSearchCV\n",
    "from sklearn import metrics\n",
    "%matplotlib inline"
   ]
  },
  {
   "cell_type": "code",
   "execution_count": 2,
   "metadata": {},
   "outputs": [],
   "source": [
    "# Query modeling_data2 table from PostgreSQL database\n",
    "\n",
    "try:\n",
    "    conn = psycopg2.connect(user=\"cohort17\",\n",
    "                            password=\"Cohort17Movies\",\n",
    "                            host=\"moviesdb.ce8d6g1pa5lm.us-east-1.rds.amazonaws.com\",\n",
    "                            port=\"5432\",database=\"moviesdb\")\n",
    "\n",
    "    dbquery = \"select * from modeling_data2\"\n",
    "    \n",
    "    movies = pd.read_sql_query(dbquery, conn)\n",
    "\n",
    "except (Exception, psycopg2.Error) as error :\n",
    "    print (\"Error while fetching data from PostgreSQL\", error)\n",
    "\n",
    "finally:\n",
    "    if(conn):\n",
    "        conn.close()"
   ]
  },
  {
   "cell_type": "code",
   "execution_count": 57,
   "metadata": {},
   "outputs": [],
   "source": [
    "# Create week_number feature from release date, create input and output datasets, and create train/test split\n",
    "\n",
    "movies['releasedate']=pd.to_datetime(movies['releasedate'])\n",
    "movies['release_year']=movies['releasedate'].dt.year\n",
    "movies['release_week']=movies['releasedate'].dt.week\n",
    "\n",
    "X = movies.drop(['primarytitle','releasedate','domesticgross'], axis=1)\n",
    "#X = movies[['productionbudget','release_week','release_year']]\n",
    "y = movies['domesticgross']\n",
    "\n",
    "X_train, X_test, y_train, y_test = train_test_split(X, y, test_size=.2, random_state=0)"
   ]
  },
  {
   "cell_type": "code",
   "execution_count": 58,
   "metadata": {},
   "outputs": [],
   "source": [
    "# Impute missing values in training and test datasets with median value from test dataset\n",
    "\n",
    "median_imputer = SimpleImputer(missing_values=np.nan, strategy='median', copy=False, fill_value=None)\n",
    "median_imputer.fit(X_train)\n",
    "X_train = median_imputer.transform(X_train)\n",
    "X_test = median_imputer.transform(X_test)"
   ]
  },
  {
   "cell_type": "code",
   "execution_count": 59,
   "metadata": {},
   "outputs": [],
   "source": [
    "# Scale values of training and test datasets using min/max scaler fit on training dataset\n",
    "\n",
    "scaler = MinMaxScaler(copy=False)\n",
    "scaler.fit(X_train)\n",
    "X_train = scaler.transform(X_train)\n",
    "X_test = scaler.transform(X_test)"
   ]
  },
  {
   "cell_type": "code",
   "execution_count": 60,
   "metadata": {},
   "outputs": [
    {
     "data": {
      "text/plain": [
       "0.5572372416104123"
      ]
     },
     "execution_count": 60,
     "metadata": {},
     "output_type": "execute_result"
    }
   ],
   "source": [
    "rf = RandomForestRegressor(n_estimators=100, random_state=0)\n",
    "rf.fit(X_train, y_train)\n",
    "rf.score(X_test, y_test)"
   ]
  },
  {
   "cell_type": "code",
   "execution_count": 61,
   "metadata": {},
   "outputs": [
    {
     "data": {
      "text/plain": [
       "<matplotlib.axes._subplots.AxesSubplot at 0x16bddb75388>"
      ]
     },
     "execution_count": 61,
     "metadata": {},
     "output_type": "execute_result"
    },
    {
     "data": {
      "image/png": "[encoded data removed]",
      "text/plain": [
       "<Figure size 864x504 with 1 Axes>"
      ]
     },
     "metadata": {
      "needs_background": "light"
     },
     "output_type": "display_data"
    }
   ],
   "source": [
    "importance = pd.DataFrame({'columns':X.columns,'importance': rf.feature_importances_})\n",
    "importance.sort_values('importance',ascending=False,inplace=True)\n",
    "importance[:30].plot('columns','importance','barh',figsize=(12,7))"
   ]
  },
  {
   "cell_type": "code",
   "execution_count": null,
   "metadata": {},
   "outputs": [],
   "source": [
    "rf = RandomForestRegressor()\n",
    "random_grid = {'max_depth': [5, 10, 20, 30, 40, 50, 60, 70, 80, 90, 100, None],\n",
    "               'max_features': ['auto', 'sqrt'],\n",
    "               'min_samples_leaf': [1, 2, 4, 8, 10, 20, 30],\n",
    "               'min_samples_split': [2, 4, 8, 10, 20, 30],\n",
    "               'n_estimators': [50, 100, 150, 200]}\n",
    "#Random search of parameters, using 5 fold cross validation, \n",
    "#search across 200 different combinations, and use all available cores\n",
    "rf_random = RandomizedSearchCV(estimator = rf, \n",
    "                               param_distributions = random_grid, \n",
    "                               n_iter = 150, \n",
    "                               cv = 5, \n",
    "                               verbose=2, \n",
    "                               random_state=0, \n",
    "                               n_jobs = -1)\n",
    "#Fit the random search model\n",
    "rf_random.fit(X_train, y_train)\n",
    "rf_random.score(X_test,y_test)"
   ]
  },
  {
   "cell_type": "code",
   "execution_count": 7,
   "metadata": {},
   "outputs": [
    {
     "data": {
      "text/plain": [
       "0.5400146148961058"
      ]
     },
     "execution_count": 7,
     "metadata": {},
     "output_type": "execute_result"
    }
   ],
   "source": [
    "en = ElasticNetCV(max_iter=1000, cv=5, random_state=0, l1_ratio=[.1, .3, .5, .7, .9, .95, .99, 1])\n",
    "en.fit(X_train, y_train)\n",
    "en.score(X_test, y_test)"
   ]
  },
  {
   "cell_type": "code",
   "execution_count": 8,
   "metadata": {},
   "outputs": [
    {
     "data": {
      "text/plain": [
       "0.5453111789079803"
      ]
     },
     "execution_count": 8,
     "metadata": {},
     "output_type": "execute_result"
    }
   ],
   "source": [
    "lars = LassoLars(max_iter=1000)\n",
    "lars.fit(X_train, y_train)\n",
    "lars.score(X_test, y_test)"
   ]
  },
  {
   "cell_type": "code",
   "execution_count": null,
   "metadata": {},
   "outputs": [],
   "source": [
    "lars = LassoLars()\n",
    "random_grid = {'alpha':[.1, .3, .5, .7, .9, .95, .99, 1],\n",
    "              'max_iter':[1000]}\n",
    "lars_random = RandomizedSearchCV(estimator = lars,\n",
    "                                param_distributions = random_grid,\n",
    "                                n_iter = 150,\n",
    "                                cv = 5,\n",
    "                                verbose = 2,\n",
    "                                random_state = 0,\n",
    "                                n_jobs = -1)\n",
    "lars_random.fit(X_train, y_train)\n",
    "lars_random.score(X_test, y_test)"
   ]
  },
  {
   "cell_type": "code",
   "execution_count": 62,
   "metadata": {
    "scrolled": true
   },
   "outputs": [
    {
     "data": {
      "text/plain": [
       "0.5763158094907829"
      ]
     },
     "execution_count": 62,
     "metadata": {},
     "output_type": "execute_result"
    }
   ],
   "source": [
    "gbm = GradientBoostingRegressor(random_state=0)\n",
    "gbm.fit(X_train,y_train)\n",
    "gbm.score(X_test,y_test)"
   ]
  },
  {
   "cell_type": "code",
   "execution_count": 11,
   "metadata": {},
   "outputs": [
    {
     "data": {
      "text/plain": [
       "<matplotlib.axes._subplots.AxesSubplot at 0x16bd9dc6808>"
      ]
     },
     "execution_count": 11,
     "metadata": {},
     "output_type": "execute_result"
    },
    {
     "data": {
      "image/png": "[encoded data removed]",
      "text/plain": [
       "<Figure size 864x504 with 1 Axes>"
      ]
     },
     "metadata": {
      "needs_background": "light"
     },
     "output_type": "display_data"
    }
   ],
   "source": [
    "importance = pd.DataFrame({'columns':X.columns,'importance': gbm.feature_importances_})\n",
    "importance.sort_values('importance',ascending=False,inplace=True)\n",
    "importance[:30].plot('columns','importance','barh',figsize=(12,7))"
   ]
  },
  {
   "cell_type": "code",
   "execution_count": null,
   "metadata": {},
   "outputs": [],
   "source": [
    "gbm = GradientBoostingRegressor()\n",
    "random_grid = {'learning_rate': [.05, .1, .2, .3, .4, .5],\n",
    "              'n_estimators': [50, 100, 200, 300, 400, 500],\n",
    "              'subsample': [.3, .5, .7, .9, 1],\n",
    "              'min_samples_split': [2, 4, 8, 10, 20],\n",
    "              'min_samples_leaf': [1, 2, 4, 8, 10, 20],\n",
    "              'max_depth': [3, 5, 7, 10],\n",
    "              'max_features': ['auto','sqrt']}\n",
    "gbm_random = RandomizedSearchCV(estimator = gbm,\n",
    "                               param_distributions = random_grid,\n",
    "                               n_iter = 500,\n",
    "                               cv = 12,\n",
    "                               verbose = 2,\n",
    "                               random_state = 0,\n",
    "                               n_jobs = -1)\n",
    "gbm_random.fit(X_train, y_train)\n",
    "gbm_random.score(X_test, y_test)"
   ]
  },
  {
   "cell_type": "code",
   "execution_count": null,
   "metadata": {},
   "outputs": [],
   "source": [
    "gbm_random.best_estimator_"
   ]
  },
  {
   "cell_type": "code",
   "execution_count": null,
   "metadata": {},
   "outputs": [],
   "source": [
    "#rf_random.best_estimator_"
   ]
  },
  {
   "cell_type": "raw",
   "metadata": {},
   "source": []
  }
 ],
 "metadata": {
  "kernelspec": {
   "display_name": "Python 3",
   "language": "python",
   "name": "python3"
  },
  "language_info": {
   "codemirror_mode": {
    "name": "ipython",
    "version": 3
   },
   "file_extension": ".py",
   "mimetype": "text/x-python",
   "name": "python",
   "nbconvert_exporter": "python",
   "pygments_lexer": "ipython3",
   "version": "3.7.4"
  }
 },
 "nbformat": 4,
 "nbformat_minor": 2
}
