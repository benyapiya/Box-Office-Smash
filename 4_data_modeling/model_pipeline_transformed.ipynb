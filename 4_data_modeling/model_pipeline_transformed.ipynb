{
 "cells": [
  {
   "cell_type": "code",
   "execution_count": 7,
   "metadata": {},
   "outputs": [],
   "source": [
    "import psycopg2\n",
    "import pandas as pd\n",
    "\n",
    "import numpy as np\n",
    "\n",
    "from sklearn.compose import TransformedTargetRegressor\n",
    "from sklearn.compose import ColumnTransformer\n",
    "from sklearn.pipeline import Pipeline\n",
    "from joblib import dump, load\n",
    "\n",
    "from sklearn.model_selection import train_test_split\n",
    "from sklearn.impute import SimpleImputer\n",
    "from sklearn.preprocessing import MinMaxScaler\n",
    "\n",
    "from sklearn.ensemble import RandomForestRegressor\n",
    "from sklearn.ensemble import GradientBoostingRegressor\n",
    "from sklearn.linear_model import ElasticNetCV\n",
    "from sklearn.linear_model import LassoLars\n",
    "\n",
    "from sklearn.model_selection import RandomizedSearchCV"
   ]
  },
  {
   "cell_type": "code",
   "execution_count": 3,
   "metadata": {},
   "outputs": [],
   "source": [
    "# Query modeling_data2 table from PostgreSQL database\n",
    "\n",
    "try:\n",
    "    conn = psycopg2.connect(user=\"cohort17\",\n",
    "                            password=\"Cohort17Movies\",\n",
    "                            host=\"moviesdb.ce8d6g1pa5lm.us-east-1.rds.amazonaws.com\",\n",
    "                            port=\"5432\",database=\"moviesdb\")\n",
    "\n",
    "    dbquery = \"select * from modeling_data2\"\n",
    "    \n",
    "    movies = pd.read_sql_query(dbquery, conn)\n",
    "\n",
    "except (Exception, psycopg2.Error) as error :\n",
    "    print (\"Error while fetching data from PostgreSQL\", error)\n",
    "\n",
    "finally:\n",
    "    if(conn):\n",
    "        conn.close()"
   ]
  },
  {
   "cell_type": "code",
   "execution_count": 4,
   "metadata": {},
   "outputs": [],
   "source": [
    "X = movies.drop(['primarytitle','domesticgross'], axis=1)\n",
    "y = movies['domesticgross']\n",
    "\n",
    "numeric_features = X[['productionbudget','runtimeminutes','release_year','release_week']].columns\n",
    "dummy_features = X.drop(numeric_features, axis=1).columns\n",
    "\n",
    "X_train, X_test, y_train, y_test = train_test_split(X, y, test_size=.2, random_state=0)"
   ]
  },
  {
   "cell_type": "code",
   "execution_count": 5,
   "metadata": {},
   "outputs": [],
   "source": [
    "impute_numeric = SimpleImputer(missing_values=np.nan, strategy='median', copy=False, fill_value=None)\n",
    "impute_dummy = SimpleImputer(missing_values=np.nan, strategy='constant', copy=False, fill_value=0)\n",
    "\n",
    "scale_numeric = MinMaxScaler(copy=False)\n",
    "\n",
    "numeric_transformer = Pipeline(steps=[\n",
    "    ('imputer', impute_numeric),\n",
    "    ('scaler', scale_numeric)])\n",
    "\n",
    "dummy_transformer = Pipeline(steps=[\n",
    "    ('imputer', impute_dummy)])\n",
    "\n",
    "preprocessor = ColumnTransformer(\n",
    "    transformers=[\n",
    "        ('num', numeric_transformer, numeric_features),\n",
    "        ('dum', dummy_transformer, dummy_features)])"
   ]
  },
  {
   "cell_type": "code",
   "execution_count": 6,
   "metadata": {
    "scrolled": true
   },
   "outputs": [
    {
     "name": "stdout",
     "output_type": "stream",
     "text": [
      "RandomForestRegressor(bootstrap=True, ccp_alpha=0.0, criterion='mse',\n",
      "                      max_depth=None, max_features='auto', max_leaf_nodes=None,\n",
      "                      max_samples=None, min_impurity_decrease=0.0,\n",
      "                      min_impurity_split=None, min_samples_leaf=1,\n",
      "                      min_samples_split=2, min_weight_fraction_leaf=0.0,\n",
      "                      n_estimators=100, n_jobs=None, oob_score=False,\n",
      "                      random_state=0, verbose=0, warm_start=False)\n",
      "model score: 0.557\n",
      "ElasticNetCV(alphas=None, copy_X=True, cv=5, eps=0.001, fit_intercept=True,\n",
      "             l1_ratio=[0.1, 0.3, 0.5, 0.7, 0.9, 0.95, 0.99, 1], max_iter=1000,\n",
      "             n_alphas=100, n_jobs=None, normalize=False, positive=False,\n",
      "             precompute='auto', random_state=0, selection='cyclic', tol=0.0001,\n",
      "             verbose=0)\n",
      "model score: 0.540\n",
      "LassoLars(alpha=1.0, copy_X=True, eps=2.220446049250313e-16, fit_intercept=True,\n",
      "          fit_path=True, max_iter=1000, normalize=True, positive=False,\n",
      "          precompute='auto', verbose=False)\n",
      "model score: 0.545\n",
      "GradientBoostingRegressor(alpha=0.9, ccp_alpha=0.0, criterion='friedman_mse',\n",
      "                          init=None, learning_rate=0.1, loss='ls', max_depth=3,\n",
      "                          max_features=None, max_leaf_nodes=None,\n",
      "                          min_impurity_decrease=0.0, min_impurity_split=None,\n",
      "                          min_samples_leaf=1, min_samples_split=2,\n",
      "                          min_weight_fraction_leaf=0.0, n_estimators=100,\n",
      "                          n_iter_no_change=None, presort='deprecated',\n",
      "                          random_state=0, subsample=1.0, tol=0.0001,\n",
      "                          validation_fraction=0.1, verbose=0, warm_start=False)\n",
      "model score: 0.579\n"
     ]
    }
   ],
   "source": [
    "regressors = [\n",
    "    RandomForestRegressor(n_estimators=100, random_state=0),\n",
    "    ElasticNetCV(max_iter=1000, cv=5, random_state=0, l1_ratio=[.1, .3, .5, .7, .9, .95, .99, 1]),\n",
    "    LassoLars(max_iter=1000),\n",
    "    GradientBoostingRegressor(random_state=0)\n",
    "    ]\n",
    "\n",
    "for regressor in regressors:\n",
    "    pipe = Pipeline(steps=[('preprocessor', preprocessor),\n",
    "                      ('regressor', regressor)])\n",
    "    pipe.fit(X_train, y_train)   \n",
    "    print(regressor)\n",
    "    print(\"model score: %.3f\" % pipe.score(X_test, y_test))"
   ]
  },
  {
   "cell_type": "code",
   "execution_count": 45,
   "metadata": {},
   "outputs": [
    {
     "data": {
      "text/plain": [
       "0.5794720892443368"
      ]
     },
     "execution_count": 45,
     "metadata": {},
     "output_type": "execute_result"
    }
   ],
   "source": [
    "gbm = Pipeline(steps=[\n",
    "    ('preprocessor', preprocessor),\n",
    "    ('regressor', GradientBoostingRegressor(random_state=0))])\n",
    "gbm.fit(X_train, y_train)\n",
    "gbm.score(X_test, y_test)"
   ]
  },
  {
   "cell_type": "code",
   "execution_count": 46,
   "metadata": {},
   "outputs": [
    {
     "data": {
      "text/plain": [
       "<matplotlib.axes._subplots.AxesSubplot at 0x239891357c8>"
      ]
     },
     "execution_count": 46,
     "metadata": {},
     "output_type": "execute_result"
    },
    {
     "data": {
      "image/png": "[encoded data removed]",
      "text/plain": [
       "<Figure size 432x288 with 1 Axes>"
      ]
     },
     "metadata": {
      "needs_background": "light"
     },
     "output_type": "display_data"
    }
   ],
   "source": [
    "import matplotlib.pyplot as plt\n",
    "%matplotlib inline\n",
    "import seaborn as sns\n",
    "\n",
    "pred_actual = pd.DataFrame({'predicted':gbm.predict(X_test),'actual':y_test})\n",
    "pred_actual['pred_rank'] = pred_actual['predicted'].rank()\n",
    "pred_actual['error'] = pred_actual['actual'] - pred_actual['predicted']\n",
    "pred_actual.sort_values(by=['pred_rank'],inplace=True)\n",
    "\n",
    "sns.regplot(data=pred_actual,x='predicted',y='error', color=\"darkblue\")"
   ]
  },
  {
   "cell_type": "code",
   "execution_count": 22,
   "metadata": {},
   "outputs": [
    {
     "data": {
      "text/plain": [
       "['gbm_1.joblib']"
      ]
     },
     "execution_count": 22,
     "metadata": {},
     "output_type": "execute_result"
    }
   ],
   "source": [
    "dump(gbm, 'gbm_1.joblib')"
   ]
  },
  {
   "cell_type": "code",
   "execution_count": 47,
   "metadata": {},
   "outputs": [
    {
     "data": {
      "text/plain": [
       "0.4315800022290658"
      ]
     },
     "execution_count": 47,
     "metadata": {},
     "output_type": "execute_result"
    }
   ],
   "source": [
    "gbm = Pipeline(steps=[\n",
    "    ('preprocessor', preprocessor),\n",
    "    ('regressor', TransformedTargetRegressor(regressor=GradientBoostingRegressor(random_state=0),func=np.log, inverse_func=np.exp))])\n",
    "gbm.fit(X_train, y_train)\n",
    "gbm.score(X_test, y_test)"
   ]
  },
  {
   "cell_type": "code",
   "execution_count": 48,
   "metadata": {},
   "outputs": [
    {
     "name": "stderr",
     "output_type": "stream",
     "text": [
      "c:\\users\\peper\\appdata\\local\\programs\\python\\python37\\lib\\site-packages\\matplotlib\\axes\\_axes.py:6521: MatplotlibDeprecationWarning: \n",
      "The 'normed' kwarg was deprecated in Matplotlib 2.1 and will be removed in 3.1. Use 'density' instead.\n",
      "  alternative=\"'density'\", removal=\"3.1\")\n",
      "c:\\users\\peper\\appdata\\local\\programs\\python\\python37\\lib\\site-packages\\matplotlib\\axes\\_axes.py:6521: MatplotlibDeprecationWarning: \n",
      "The 'normed' kwarg was deprecated in Matplotlib 2.1 and will be removed in 3.1. Use 'density' instead.\n",
      "  alternative=\"'density'\", removal=\"3.1\")\n"
     ]
    },
    {
     "data": {
      "image/png": "[encoded data removed]",
      "text/plain": [
       "<Figure size 432x288 with 2 Axes>"
      ]
     },
     "metadata": {
      "needs_background": "light"
     },
     "output_type": "display_data"
    }
   ],
   "source": [
    "\n",
    "\n",
    "y_trans = np.log1p(y)\n",
    "f, (ax0, ax1) = plt.subplots(1, 2)\n",
    "\n",
    "ax0.hist(y, bins=100, normed=True)\n",
    "ax0.set_ylabel('Probability')\n",
    "ax0.set_xlabel('Target')\n",
    "ax0.set_title('Target distribution')\n",
    "\n",
    "ax1.hist(y_trans, bins=100, normed=True)\n",
    "ax1.set_ylabel('Probability')\n",
    "ax1.set_xlabel('Target')\n",
    "ax1.set_title('Transformed target distribution')\n",
    "\n",
    "f.suptitle(\"Synthetic data\", y=0.035)\n",
    "f.tight_layout(rect=[0.05, 0.05, 0.95, 0.95])"
   ]
  },
  {
   "cell_type": "code",
   "execution_count": 51,
   "metadata": {},
   "outputs": [
    {
     "data": {
      "text/plain": [
       "<matplotlib.axes._subplots.AxesSubplot at 0x23989203d48>"
      ]
     },
     "execution_count": 51,
     "metadata": {},
     "output_type": "execute_result"
    },
    {
     "data": {
      "image/png": "[encoded data removed]",
      "text/plain": [
       "<Figure size 432x288 with 1 Axes>"
      ]
     },
     "metadata": {
      "needs_background": "light"
     },
     "output_type": "display_data"
    }
   ],
   "source": [
    "pred_actual = pd.DataFrame({'predicted':gbm.predict(X_test),'actual':y_test})\n",
    "pred_actual['pred_rank'] = pred_actual['predicted'].rank()\n",
    "pred_actual['error'] = pred_actual['actual'] - pred_actual['predicted']\n",
    "pred_actual.sort_values(by=['pred_rank'],inplace=True)\n",
    "\n",
    "\n",
    "sns.regplot(data=pred_actual,x='predicted',y='error', color=\"darkblue\")"
   ]
  },
  {
   "cell_type": "code",
   "execution_count": null,
   "metadata": {},
   "outputs": [],
   "source": []
  },
  {
   "cell_type": "code",
   "execution_count": null,
   "metadata": {},
   "outputs": [],
   "source": []
  }
 ],
 "metadata": {
  "kernelspec": {
   "display_name": "Python 3",
   "language": "python",
   "name": "python3"
  },
  "language_info": {
   "codemirror_mode": {
    "name": "ipython",
    "version": 3
   },
   "file_extension": ".py",
   "mimetype": "text/x-python",
   "name": "python",
   "nbconvert_exporter": "python",
   "pygments_lexer": "ipython3",
   "version": "3.7.4"
  }
 },
 "nbformat": 4,
 "nbformat_minor": 2
}
