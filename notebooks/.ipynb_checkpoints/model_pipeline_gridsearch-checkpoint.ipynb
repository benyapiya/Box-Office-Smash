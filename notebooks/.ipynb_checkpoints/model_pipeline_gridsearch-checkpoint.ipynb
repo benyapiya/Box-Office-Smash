{
 "cells": [
  {
   "cell_type": "code",
   "execution_count": 68,
   "metadata": {},
   "outputs": [],
   "source": [
    "import psycopg2\n",
    "import pandas as pd\n",
    "\n",
    "import numpy as np\n",
    "import matplotlib.pyplot as plt\n",
    "import seaborn as sns\n",
    "%matplotlib inline\n",
    "\n",
    "from sklearn.compose import ColumnTransformer\n",
    "from sklearn.pipeline import Pipeline\n",
    "from joblib import dump, load\n",
    "\n",
    "from sklearn.model_selection import train_test_split\n",
    "from sklearn.impute import SimpleImputer\n",
    "from sklearn.preprocessing import MinMaxScaler\n",
    "\n",
    "from sklearn.ensemble import RandomForestRegressor\n",
    "from sklearn.ensemble import GradientBoostingRegressor\n",
    "from sklearn.linear_model import ElasticNetCV\n",
    "from sklearn.linear_model import LassoLars\n",
    "\n",
    "from sklearn.model_selection import RandomizedSearchCV"
   ]
  },
  {
   "cell_type": "code",
   "execution_count": 41,
   "metadata": {},
   "outputs": [],
   "source": [
    "# Query modeling_data2 table from PostgreSQL database\n",
    "\n",
    "try:\n",
    "    conn = psycopg2.connect(user=\"cohort17\",\n",
    "                            password=\"Cohort17Movies\",\n",
    "                            host=\"moviesdb.ce8d6g1pa5lm.us-east-1.rds.amazonaws.com\",\n",
    "                            port=\"5432\",database=\"moviesdb\")\n",
    "\n",
    "    dbquery = \"select * from modeling_data2\"\n",
    "    \n",
    "    movies = pd.read_sql_query(dbquery, conn)\n",
    "\n",
    "except (Exception, psycopg2.Error) as error :\n",
    "    print (\"Error while fetching data from PostgreSQL\", error)\n",
    "\n",
    "finally:\n",
    "    if(conn):\n",
    "        conn.close()"
   ]
  },
  {
   "cell_type": "code",
   "execution_count": 42,
   "metadata": {},
   "outputs": [],
   "source": [
    "X = movies.drop(['primarytitle','domesticgross'], axis=1)\n",
    "y = movies['domesticgross']\n",
    "\n",
    "numeric_features = X[['productionbudget','runtimeminutes','release_year','release_week']].columns\n",
    "dummy_features = X.drop(numeric_features, axis=1).columns\n",
    "\n",
    "X_train, X_test, y_train, y_test = train_test_split(X, y, test_size=.2, random_state=0)"
   ]
  },
  {
   "cell_type": "code",
   "execution_count": 43,
   "metadata": {},
   "outputs": [],
   "source": [
    "impute_numeric = SimpleImputer(missing_values=np.nan, strategy='median', copy=False, fill_value=None)\n",
    "impute_dummy = SimpleImputer(missing_values=np.nan, strategy='constant', copy=False, fill_value=0)\n",
    "\n",
    "scale_numeric = MinMaxScaler(copy=False)\n",
    "\n",
    "numeric_transformer = Pipeline(steps=[\n",
    "    ('imputer', impute_numeric),\n",
    "    ('scaler', scale_numeric)])\n",
    "\n",
    "dummy_transformer = Pipeline(steps=[\n",
    "    ('imputer', impute_dummy)])\n",
    "\n",
    "preprocessor = ColumnTransformer(\n",
    "    transformers=[\n",
    "        ('num', numeric_transformer, numeric_features),\n",
    "        ('dum', dummy_transformer, dummy_features)])"
   ]
  },
  {
   "cell_type": "code",
   "execution_count": 44,
   "metadata": {},
   "outputs": [
    {
     "data": {
      "text/plain": [
       "0.5794720892443368"
      ]
     },
     "execution_count": 44,
     "metadata": {},
     "output_type": "execute_result"
    }
   ],
   "source": [
    "gbm = Pipeline(steps=[\n",
    "    ('preprocessor', preprocessor),\n",
    "    ('regressor', GradientBoostingRegressor(random_state=0))])\n",
    "gbm.fit(X_train, y_train)\n",
    "gbm.score(X_test, y_test)"
   ]
  },
  {
   "cell_type": "code",
   "execution_count": 6,
   "metadata": {},
   "outputs": [
    {
     "data": {
      "text/plain": [
       "['gbm_1.joblib']"
      ]
     },
     "execution_count": 6,
     "metadata": {},
     "output_type": "execute_result"
    }
   ],
   "source": [
    "dump(gbm, 'gbm_1.joblib')"
   ]
  },
  {
   "cell_type": "code",
   "execution_count": 10,
   "metadata": {},
   "outputs": [
    {
     "name": "stdout",
     "output_type": "stream",
     "text": [
      "Fitting 12 folds for each of 50 candidates, totalling 600 fits\n"
     ]
    },
    {
     "name": "stderr",
     "output_type": "stream",
     "text": [
      "[Parallel(n_jobs=-1)]: Using backend LokyBackend with 4 concurrent workers.\n",
      "[Parallel(n_jobs=-1)]: Done  33 tasks      | elapsed:    4.1s\n",
      "[Parallel(n_jobs=-1)]: Done 154 tasks      | elapsed:   18.3s\n",
      "[Parallel(n_jobs=-1)]: Done 357 tasks      | elapsed:   42.4s\n",
      "[Parallel(n_jobs=-1)]: Done 600 out of 600 | elapsed:  1.2min finished\n"
     ]
    },
    {
     "name": "stdout",
     "output_type": "stream",
     "text": [
      "{'regressor__subsample': 1, 'regressor__n_estimators': 125, 'regressor__min_samples_split': 8, 'regressor__min_samples_leaf': 2, 'regressor__max_features': 'sqrt', 'regressor__max_depth': 5, 'regressor__learning_rate': 0.05}\n",
      "0.5004134244666113\n"
     ]
    },
    {
     "data": {
      "text/plain": [
       "0.5862917568828443"
      ]
     },
     "execution_count": 10,
     "metadata": {},
     "output_type": "execute_result"
    }
   ],
   "source": [
    "#Warning: This cell may take a long time to run, depending on resources\n",
    "\n",
    "gbm = Pipeline(steps=[('preprocessor', preprocessor),\n",
    "                      ('regressor', GradientBoostingRegressor())])\n",
    "\n",
    "param_grid = {'regressor__learning_rate': [.05],\n",
    "              'regressor__n_estimators': [125, 150, 175],\n",
    "              'regressor__subsample': [.8, .9, 1],\n",
    "              'regressor__min_samples_split': [8, 10, 12],\n",
    "              'regressor__min_samples_leaf': [1, 2],\n",
    "              'regressor__max_depth': [3, 4, 5, 6],\n",
    "              'regressor__max_features': ['sqrt']}\n",
    "\n",
    "CV = RandomizedSearchCV(estimator = gbm,\n",
    "                        param_distributions = param_grid,\n",
    "                        n_iter = 50,\n",
    "                        cv = 12,\n",
    "                        verbose = 2,\n",
    "                        random_state = 0,\n",
    "                        n_jobs = -1)\n",
    "                  \n",
    "CV.fit(X_train, y_train)  \n",
    "print(CV.best_params_)\n",
    "print(CV.best_score_)\n",
    "CV.score(X_test, y_test)"
   ]
  },
  {
   "cell_type": "code",
   "execution_count": 24,
   "metadata": {},
   "outputs": [
    {
     "data": {
      "text/plain": [
       "['gbm_randomsearch.joblib']"
      ]
     },
     "execution_count": 24,
     "metadata": {},
     "output_type": "execute_result"
    }
   ],
   "source": [
    "dump(CV.best_estimator_, 'gbm_randomsearch.joblib')"
   ]
  },
  {
   "cell_type": "code",
   "execution_count": 25,
   "metadata": {},
   "outputs": [],
   "source": [
    "gbm_random = load('gbm_randomsearch.joblib')"
   ]
  },
  {
   "cell_type": "code",
   "execution_count": 26,
   "metadata": {},
   "outputs": [
    {
     "data": {
      "text/plain": [
       "0.5862917568828443"
      ]
     },
     "execution_count": 26,
     "metadata": {},
     "output_type": "execute_result"
    }
   ],
   "source": [
    "gbm_random.score(X_test, y_test)"
   ]
  },
  {
   "cell_type": "code",
   "execution_count": 28,
   "metadata": {},
   "outputs": [
    {
     "data": {
      "text/plain": [
       "GradientBoostingRegressor(alpha=0.9, ccp_alpha=0.0, criterion='friedman_mse',\n",
       "                          init=None, learning_rate=0.05, loss='ls', max_depth=5,\n",
       "                          max_features='sqrt', max_leaf_nodes=None,\n",
       "                          min_impurity_decrease=0.0, min_impurity_split=None,\n",
       "                          min_samples_leaf=2, min_samples_split=8,\n",
       "                          min_weight_fraction_leaf=0.0, n_estimators=125,\n",
       "                          n_iter_no_change=None, presort='deprecated',\n",
       "                          random_state=None, subsample=1, tol=0.0001,\n",
       "                          validation_fraction=0.1, verbose=0, warm_start=False)"
      ]
     },
     "execution_count": 28,
     "metadata": {},
     "output_type": "execute_result"
    }
   ],
   "source": [
    "gbm_random['regressor']"
   ]
  },
  {
   "cell_type": "code",
   "execution_count": 34,
   "metadata": {},
   "outputs": [
    {
     "data": {
      "text/plain": [
       "0.575956517685184"
      ]
     },
     "execution_count": 34,
     "metadata": {},
     "output_type": "execute_result"
    }
   ],
   "source": [
    "gbm2 = GradientBoostingRegressor(alpha=0.9, ccp_alpha=0.0, criterion='friedman_mse',\n",
    "                          init=None, learning_rate=0.05, loss='ls', max_depth=5,\n",
    "                          max_features='sqrt', max_leaf_nodes=None,\n",
    "                          min_impurity_decrease=0.0, min_impurity_split=None,\n",
    "                          min_samples_leaf=2, min_samples_split=8,\n",
    "                          min_weight_fraction_leaf=0.0, n_estimators=125,\n",
    "                          n_iter_no_change=None, presort='deprecated',\n",
    "                          random_state=None, subsample=1, tol=0.0001,\n",
    "                          validation_fraction=0.1, verbose=0, warm_start=False)\n",
    "\n",
    "gbm = Pipeline(steps=[\n",
    "    ('preprocessor', preprocessor),\n",
    "    ('regressor', gbm2)])\n",
    "gbm.fit(X_train, y_train)\n",
    "gbm.score(X_test, y_test)"
   ]
  },
  {
   "cell_type": "code",
   "execution_count": 35,
   "metadata": {},
   "outputs": [
    {
     "data": {
      "text/plain": [
       "['gbm_2.joblib']"
      ]
     },
     "execution_count": 35,
     "metadata": {},
     "output_type": "execute_result"
    }
   ],
   "source": [
    "dump(gbm, 'gbm_2.joblib')"
   ]
  },
  {
   "cell_type": "code",
   "execution_count": 32,
   "metadata": {},
   "outputs": [
    {
     "name": "stdout",
     "output_type": "stream",
     "text": [
      "Fitting 12 folds for each of 500 candidates, totalling 6000 fits\n"
     ]
    },
    {
     "name": "stderr",
     "output_type": "stream",
     "text": [
      "[Parallel(n_jobs=-1)]: Using backend LokyBackend with 4 concurrent workers.\n",
      "[Parallel(n_jobs=-1)]: Done  33 tasks      | elapsed:   16.8s\n",
      "[Parallel(n_jobs=-1)]: Done 154 tasks      | elapsed:   58.7s\n",
      "[Parallel(n_jobs=-1)]: Done 357 tasks      | elapsed:  1.9min\n",
      "[Parallel(n_jobs=-1)]: Done 640 tasks      | elapsed:  4.0min\n",
      "[Parallel(n_jobs=-1)]: Done 1005 tasks      | elapsed:  6.3min\n",
      "[Parallel(n_jobs=-1)]: Done 1450 tasks      | elapsed:  9.7min\n",
      "[Parallel(n_jobs=-1)]: Done 1977 tasks      | elapsed: 15.4min\n",
      "[Parallel(n_jobs=-1)]: Done 2584 tasks      | elapsed: 20.2min\n",
      "[Parallel(n_jobs=-1)]: Done 3273 tasks      | elapsed: 25.8min\n",
      "[Parallel(n_jobs=-1)]: Done 4042 tasks      | elapsed: 33.3min\n",
      "[Parallel(n_jobs=-1)]: Done 4893 tasks      | elapsed: 41.2min\n",
      "[Parallel(n_jobs=-1)]: Done 5824 tasks      | elapsed: 49.2min\n",
      "[Parallel(n_jobs=-1)]: Done 6000 out of 6000 | elapsed: 50.6min finished\n"
     ]
    },
    {
     "name": "stdout",
     "output_type": "stream",
     "text": [
      "{'regressor__n_estimators': 150, 'regressor__min_samples_split': 2, 'regressor__min_samples_leaf': 1, 'regressor__max_features': 'sqrt', 'regressor__max_depth': 20}\n",
      "0.49260840335675715\n"
     ]
    },
    {
     "data": {
      "text/plain": [
       "0.5738235993316629"
      ]
     },
     "execution_count": 32,
     "metadata": {},
     "output_type": "execute_result"
    }
   ],
   "source": [
    "#Warning: This cell may take a long time to run, depending on resources\n",
    "\n",
    "rf = Pipeline(steps=[('preprocessor', preprocessor),\n",
    "                      ('regressor', RandomForestRegressor())])\n",
    "\n",
    "param_grid = {'regressor__max_depth': [10, 20, 40, 60, None],\n",
    "               'regressor__max_features': ['auto', 'sqrt'],\n",
    "               'regressor__min_samples_leaf': [1, 2, 4, 8, 10, 20, 30],\n",
    "               'regressor__min_samples_split': [2, 4, 8, 10, 20, 30],\n",
    "               'regressor__n_estimators': [50, 100, 150, 200]}\n",
    "\n",
    "CV = RandomizedSearchCV(estimator = rf,\n",
    "                        param_distributions = param_grid,\n",
    "                        n_iter = 500,\n",
    "                        cv = 12,\n",
    "                        verbose = 2,\n",
    "                        random_state = 0,\n",
    "                        n_jobs = -1)\n",
    "                  \n",
    "CV.fit(X_train, y_train)  \n",
    "print(CV.best_params_)\n",
    "print(CV.best_score_)\n",
    "CV.score(X_test, y_test)"
   ]
  },
  {
   "cell_type": "code",
   "execution_count": 34,
   "metadata": {},
   "outputs": [
    {
     "data": {
      "text/plain": [
       "['rf_randomsearch.joblib']"
      ]
     },
     "execution_count": 34,
     "metadata": {},
     "output_type": "execute_result"
    }
   ],
   "source": [
    "dump(CV, 'rf_randomsearch.joblib')"
   ]
  },
  {
   "cell_type": "markdown",
   "metadata": {},
   "source": [
    "##Feature Reduction Section (list of features to remove obtained from model_exploration workbook)"
   ]
  },
  {
   "cell_type": "code",
   "execution_count": 52,
   "metadata": {},
   "outputs": [],
   "source": [
    "remove = ['talkinganimals',\n",
    "         'martin_scorsese',\n",
    "         'm_night_shyamalan',\n",
    "         'colin_farrell',\n",
    "         'bruce_willis',\n",
    "         'brad_pitt',\n",
    "         'shawn_levy',\n",
    "         'jackie_chan',\n",
    "         'mark_wahlberg',\n",
    "         'hugh_jackman',\n",
    "         'gerard_butler',\n",
    "         'keanu_reeves',\n",
    "         'nicolas_cage',\n",
    "         'dwayne_johnson',\n",
    "         'steven_spielberg',\n",
    "         'leonardo_dicaprio',\n",
    "         'clint_eastwood',\n",
    "         'jason_statham',\n",
    "         'denzel_washington',\n",
    "         'religious',\n",
    "         'jake_gyllenhaal',\n",
    "         'owen_wilson',\n",
    "         'guy_ritchie',\n",
    "         'matthew_mcconaughey',\n",
    "         'ron_howard',\n",
    "         'david_gordon_green',\n",
    "         'russell_crowe',\n",
    "         'jack_black',\n",
    "         'tom_cruise',\n",
    "         'matt_damon',\n",
    "         'africanamerican',\n",
    "         'michael_bay',\n",
    "         'cate_blanchett',\n",
    "         'tim_burton',\n",
    "         'ben_affleck',\n",
    "         'john_goodman',\n",
    "         'christian_bale',\n",
    "         'george_clooney',\n",
    "         'dysfunctionalfamily',\n",
    "         'mystery',\n",
    "         'tom_hanks',\n",
    "         'will_ferrell',\n",
    "         'stephen_soderbergh',\n",
    "         'robert_de_niro',\n",
    "         'biography',\n",
    "         'ridley_scott',\n",
    "         'paramount',\n",
    "         'romance',\n",
    "         'reese_witherspoon',\n",
    "         'channing_tatum',\n",
    "         'johnny_depp',\n",
    "         'thriller',\n",
    "         'g_rating',\n",
    "         'revenge',\n",
    "         'ice_cube',\n",
    "         'horror',\n",
    "         'samuel_l_jackson',\n",
    "         'sony',\n",
    "         'jim_carrey',\n",
    "         'christopher_nolan']\n",
    "\n",
    "X_reduce = movies.drop(['primarytitle','domesticgross'] + remove, axis=1)\n",
    "y_reduce = movies['domesticgross']\n",
    "\n",
    "numeric_features = X_reduce[['productionbudget','runtimeminutes','release_year','release_week']].columns\n",
    "dummy_features = X_reduce.drop(numeric_features, axis=1).columns\n",
    "\n",
    "X_reduce_train, X_reduce_test, y_reduce_train, y_reduce_test = train_test_split(X_reduce, y_reduce, test_size=.2, random_state=0)"
   ]
  },
  {
   "cell_type": "code",
   "execution_count": 53,
   "metadata": {},
   "outputs": [],
   "source": [
    "impute_numeric = SimpleImputer(missing_values=np.nan, strategy='median', copy=False, fill_value=None)\n",
    "impute_dummy = SimpleImputer(missing_values=np.nan, strategy='constant', copy=False, fill_value=0)\n",
    "\n",
    "scale_numeric = MinMaxScaler(copy=False)\n",
    "\n",
    "numeric_transformer = Pipeline(steps=[\n",
    "    ('imputer', impute_numeric),\n",
    "    ('scaler', scale_numeric)])\n",
    "\n",
    "dummy_transformer = Pipeline(steps=[\n",
    "    ('imputer', impute_dummy)])\n",
    "\n",
    "preprocessor = ColumnTransformer(\n",
    "    transformers=[\n",
    "        ('num', numeric_transformer, numeric_features),\n",
    "        ('dum', dummy_transformer, dummy_features)])"
   ]
  },
  {
   "cell_type": "code",
   "execution_count": 54,
   "metadata": {},
   "outputs": [
    {
     "data": {
      "text/plain": [
       "0.5665964811405593"
      ]
     },
     "execution_count": 54,
     "metadata": {},
     "output_type": "execute_result"
    }
   ],
   "source": [
    "gbm = Pipeline(steps=[\n",
    "    ('preprocessor', preprocessor),\n",
    "    ('regressor', GradientBoostingRegressor(random_state=0))])\n",
    "gbm.fit(X_reduce_train, y_reduce_train)\n",
    "gbm.score(X_reduce_test, y_reduce_test)"
   ]
  },
  {
   "cell_type": "code",
   "execution_count": 55,
   "metadata": {},
   "outputs": [
    {
     "data": {
      "text/plain": [
       "['gbm_reduce_1.joblib']"
      ]
     },
     "execution_count": 55,
     "metadata": {},
     "output_type": "execute_result"
    }
   ],
   "source": [
    "dump(gbm, 'gbm_reduce_1.joblib')"
   ]
  },
  {
   "cell_type": "code",
   "execution_count": 62,
   "metadata": {},
   "outputs": [
    {
     "name": "stdout",
     "output_type": "stream",
     "text": [
      "Fitting 12 folds for each of 150 candidates, totalling 1800 fits\n"
     ]
    },
    {
     "name": "stderr",
     "output_type": "stream",
     "text": [
      "[Parallel(n_jobs=-1)]: Using backend LokyBackend with 4 concurrent workers.\n",
      "[Parallel(n_jobs=-1)]: Done  33 tasks      | elapsed:    4.5s\n",
      "[Parallel(n_jobs=-1)]: Done 154 tasks      | elapsed:   22.1s\n",
      "[Parallel(n_jobs=-1)]: Done 357 tasks      | elapsed:   59.4s\n",
      "[Parallel(n_jobs=-1)]: Done 640 tasks      | elapsed:  1.7min\n",
      "[Parallel(n_jobs=-1)]: Done 1005 tasks      | elapsed:  2.5min\n",
      "[Parallel(n_jobs=-1)]: Done 1450 tasks      | elapsed:  3.6min\n",
      "[Parallel(n_jobs=-1)]: Done 1800 out of 1800 | elapsed:  4.4min finished\n"
     ]
    },
    {
     "name": "stdout",
     "output_type": "stream",
     "text": [
      "{'regressor__subsample': 1, 'regressor__n_estimators': 175, 'regressor__min_samples_split': 4, 'regressor__min_samples_leaf': 1, 'regressor__max_features': 'sqrt', 'regressor__max_depth': 4, 'regressor__learning_rate': 0.05}\n",
      "0.508150406590678\n"
     ]
    },
    {
     "data": {
      "text/plain": [
       "0.5853546617186913"
      ]
     },
     "execution_count": 62,
     "metadata": {},
     "output_type": "execute_result"
    }
   ],
   "source": [
    "#Warning: This cell may take a long time to run, depending on resources\n",
    "\n",
    "gbm = Pipeline(steps=[('preprocessor', preprocessor),\n",
    "                      ('regressor', GradientBoostingRegressor())])\n",
    "\n",
    "param_grid = {'regressor__learning_rate': [.05],\n",
    "              'regressor__n_estimators': [125, 150, 175, 200],\n",
    "              'regressor__subsample': [.8, .9, 1],\n",
    "              'regressor__min_samples_split': [4, 6, 8, 10, 12],\n",
    "              'regressor__min_samples_leaf': [1, 2, 3],\n",
    "              'regressor__max_depth': [4, 5, 6, 7, 8],\n",
    "              'regressor__max_features': ['sqrt']}\n",
    "\n",
    "CV = RandomizedSearchCV(estimator = gbm,\n",
    "                        param_distributions = param_grid,\n",
    "                        n_iter = 150,\n",
    "                        cv = 12,\n",
    "                        verbose = 2,\n",
    "                        random_state = 0,\n",
    "                        n_jobs = -1)\n",
    "                  \n",
    "CV.fit(X_reduce_train, y_reduce_train)  \n",
    "print(CV.best_params_)\n",
    "print(CV.best_score_)\n",
    "CV.score(X_reduce_test, y_reduce_test)"
   ]
  },
  {
   "cell_type": "code",
   "execution_count": 63,
   "metadata": {},
   "outputs": [
    {
     "data": {
      "text/plain": [
       "['gbm_reduce_randomsearch.joblib']"
      ]
     },
     "execution_count": 63,
     "metadata": {},
     "output_type": "execute_result"
    }
   ],
   "source": [
    "dump(CV.best_estimator_, 'gbm_reduce_randomsearch.joblib')"
   ]
  },
  {
   "cell_type": "code",
   "execution_count": 66,
   "metadata": {},
   "outputs": [],
   "source": [
    "feature_importance = CV.best_estimator_.steps[-1][1].feature_importances_"
   ]
  },
  {
   "cell_type": "code",
   "execution_count": 71,
   "metadata": {},
   "outputs": [
    {
     "data": {
      "text/plain": [
       "<matplotlib.axes._subplots.AxesSubplot at 0x26d6c09d548>"
      ]
     },
     "execution_count": 71,
     "metadata": {},
     "output_type": "execute_result"
    },
    {
     "data": {
      "image/png": "[encoded data removed]",
      "text/plain": [
       "<Figure size 864x864 with 1 Axes>"
      ]
     },
     "metadata": {
      "needs_background": "light"
     },
     "output_type": "display_data"
    }
   ],
   "source": [
    "importance = pd.DataFrame({'columns':X_reduce.columns,'importance': feature_importance})\n",
    "importance.sort_values('importance', ascending=True, inplace=True)\n",
    "importance.tail(50).plot('columns','importance','barh',figsize=(12,12))"
   ]
  },
  {
   "cell_type": "code",
   "execution_count": null,
   "metadata": {},
   "outputs": [],
   "source": []
  }
 ],
 "metadata": {
  "kernelspec": {
   "display_name": "Python 3",
   "language": "python",
   "name": "python3"
  },
  "language_info": {
   "codemirror_mode": {
    "name": "ipython",
    "version": 3
   },
   "file_extension": ".py",
   "mimetype": "text/x-python",
   "name": "python",
   "nbconvert_exporter": "python",
   "pygments_lexer": "ipython3",
   "version": "3.7.4"
  }
 },
 "nbformat": 4,
 "nbformat_minor": 2
}
